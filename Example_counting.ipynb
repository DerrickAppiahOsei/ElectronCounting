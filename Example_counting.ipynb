{
  "nbformat": 4,
  "nbformat_minor": 0,
  "metadata": {
    "colab": {
      "provenance": [],
      "authorship_tag": "ABX9TyNAYb84gw4Zq/qnIteeE/1L",
      "include_colab_link": true
    },
    "kernelspec": {
      "name": "python3",
      "display_name": "Python 3"
    },
    "language_info": {
      "name": "python"
    }
  },
  "cells": [
    {
      "cell_type": "markdown",
      "metadata": {
        "id": "view-in-github",
        "colab_type": "text"
      },
      "source": [
        "<a href=\"https://colab.research.google.com/github/wdwzyyg/ElectronCounting/blob/master/Example_counting.ipynb\" target=\"_parent\"><img src=\"https://colab.research.google.com/assets/colab-badge.svg\" alt=\"Open In Colab\"/></a>"
      ]
    },
    {
      "cell_type": "markdown",
      "source": [
        "# Install and import packages"
      ],
      "metadata": {
        "id": "a10vRBPjkY-G"
      }
    },
    {
      "cell_type": "code",
      "source": [
        "!pip install ElectronCounting --upgrade\n",
        "import CountingNN\n",
        "import torch\n",
        "import os"
      ],
      "metadata": {
        "colab": {
          "base_uri": "https://localhost:8080/"
        },
        "id": "lvkqGr48kbzs",
        "outputId": "7d2c1dc9-4aad-4b5a-f314-2f9a2a20a653"
      },
      "execution_count": 1,
      "outputs": [
        {
          "output_type": "stream",
          "name": "stdout",
          "text": [
            "Looking in indexes: https://pypi.org/simple, https://us-python.pkg.dev/colab-wheels/public/simple/\n",
            "Collecting ElectronCounting\n",
            "  Downloading ElectronCounting-0.1.6-py3-none-any.whl (1.8 MB)\n",
            "\u001b[2K     \u001b[90m━━━━━━━━━━━━━━━━━━━━━━━━━━━━━━━━━━━━━━━━\u001b[0m \u001b[32m1.8/1.8 MB\u001b[0m \u001b[31m14.0 MB/s\u001b[0m eta \u001b[36m0:00:00\u001b[0m\n",
            "\u001b[?25hRequirement already satisfied: matplotlib>=3.2.2 in /usr/local/lib/python3.8/dist-packages (from ElectronCounting) (3.2.2)\n",
            "Requirement already satisfied: scikit-learn>=1.0.2 in /usr/local/lib/python3.8/dist-packages (from ElectronCounting) (1.0.2)\n",
            "Requirement already satisfied: numpy>=1.20.1 in /usr/local/lib/python3.8/dist-packages (from ElectronCounting) (1.21.6)\n",
            "Collecting kornia>=0.6.9\n",
            "  Downloading kornia-0.6.9-py2.py3-none-any.whl (569 kB)\n",
            "\u001b[2K     \u001b[90m━━━━━━━━━━━━━━━━━━━━━━━━━━━━━━━━━━━━━━\u001b[0m \u001b[32m569.1/569.1 KB\u001b[0m \u001b[31m41.1 MB/s\u001b[0m eta \u001b[36m0:00:00\u001b[0m\n",
            "\u001b[?25hCollecting torchvision==0.13.0\n",
            "  Downloading torchvision-0.13.0-cp38-cp38-manylinux1_x86_64.whl (19.1 MB)\n",
            "\u001b[2K     \u001b[90m━━━━━━━━━━━━━━━━━━━━━━━━━━━━━━━━━━━━━━━━\u001b[0m \u001b[32m19.1/19.1 MB\u001b[0m \u001b[31m34.0 MB/s\u001b[0m eta \u001b[36m0:00:00\u001b[0m\n",
            "\u001b[?25hCollecting torch==1.12.0\n",
            "  Downloading torch-1.12.0-cp38-cp38-manylinux1_x86_64.whl (776.3 MB)\n",
            "\u001b[2K     \u001b[90m━━━━━━━━━━━━━━━━━━━━━━━━━━━━━━━━━━━━━━━\u001b[0m \u001b[32m776.3/776.3 MB\u001b[0m \u001b[31m2.0 MB/s\u001b[0m eta \u001b[36m0:00:00\u001b[0m\n",
            "\u001b[?25hRequirement already satisfied: typing-extensions in /usr/local/lib/python3.8/dist-packages (from torch==1.12.0->ElectronCounting) (4.4.0)\n",
            "Requirement already satisfied: requests in /usr/local/lib/python3.8/dist-packages (from torchvision==0.13.0->ElectronCounting) (2.25.1)\n",
            "Requirement already satisfied: pillow!=8.3.*,>=5.3.0 in /usr/local/lib/python3.8/dist-packages (from torchvision==0.13.0->ElectronCounting) (7.1.2)\n",
            "Requirement already satisfied: packaging in /usr/local/lib/python3.8/dist-packages (from kornia>=0.6.9->ElectronCounting) (21.3)\n",
            "Requirement already satisfied: python-dateutil>=2.1 in /usr/local/lib/python3.8/dist-packages (from matplotlib>=3.2.2->ElectronCounting) (2.8.2)\n",
            "Requirement already satisfied: pyparsing!=2.0.4,!=2.1.2,!=2.1.6,>=2.0.1 in /usr/local/lib/python3.8/dist-packages (from matplotlib>=3.2.2->ElectronCounting) (3.0.9)\n",
            "Requirement already satisfied: cycler>=0.10 in /usr/local/lib/python3.8/dist-packages (from matplotlib>=3.2.2->ElectronCounting) (0.11.0)\n",
            "Requirement already satisfied: kiwisolver>=1.0.1 in /usr/local/lib/python3.8/dist-packages (from matplotlib>=3.2.2->ElectronCounting) (1.4.4)\n",
            "Requirement already satisfied: threadpoolctl>=2.0.0 in /usr/local/lib/python3.8/dist-packages (from scikit-learn>=1.0.2->ElectronCounting) (3.1.0)\n",
            "Requirement already satisfied: scipy>=1.1.0 in /usr/local/lib/python3.8/dist-packages (from scikit-learn>=1.0.2->ElectronCounting) (1.7.3)\n",
            "Requirement already satisfied: joblib>=0.11 in /usr/local/lib/python3.8/dist-packages (from scikit-learn>=1.0.2->ElectronCounting) (1.2.0)\n",
            "Requirement already satisfied: six>=1.5 in /usr/local/lib/python3.8/dist-packages (from python-dateutil>=2.1->matplotlib>=3.2.2->ElectronCounting) (1.15.0)\n",
            "Requirement already satisfied: idna<3,>=2.5 in /usr/local/lib/python3.8/dist-packages (from requests->torchvision==0.13.0->ElectronCounting) (2.10)\n",
            "Requirement already satisfied: urllib3<1.27,>=1.21.1 in /usr/local/lib/python3.8/dist-packages (from requests->torchvision==0.13.0->ElectronCounting) (1.24.3)\n",
            "Requirement already satisfied: chardet<5,>=3.0.2 in /usr/local/lib/python3.8/dist-packages (from requests->torchvision==0.13.0->ElectronCounting) (4.0.0)\n",
            "Requirement already satisfied: certifi>=2017.4.17 in /usr/local/lib/python3.8/dist-packages (from requests->torchvision==0.13.0->ElectronCounting) (2022.12.7)\n",
            "Installing collected packages: torch, torchvision, kornia, ElectronCounting\n",
            "  Attempting uninstall: torch\n",
            "    Found existing installation: torch 1.13.0+cu116\n",
            "    Uninstalling torch-1.13.0+cu116:\n",
            "      Successfully uninstalled torch-1.13.0+cu116\n",
            "  Attempting uninstall: torchvision\n",
            "    Found existing installation: torchvision 0.14.0+cu116\n",
            "    Uninstalling torchvision-0.14.0+cu116:\n",
            "      Successfully uninstalled torchvision-0.14.0+cu116\n",
            "\u001b[31mERROR: pip's dependency resolver does not currently take into account all the packages that are installed. This behaviour is the source of the following dependency conflicts.\n",
            "torchtext 0.14.0 requires torch==1.13.0, but you have torch 1.12.0 which is incompatible.\n",
            "torchaudio 0.13.0+cu116 requires torch==1.13.0, but you have torch 1.12.0 which is incompatible.\u001b[0m\u001b[31m\n",
            "\u001b[0mSuccessfully installed ElectronCounting-0.1.6 kornia-0.6.9 torch-1.12.0 torchvision-0.13.0\n"
          ]
        }
      ]
    },
    {
      "cell_type": "markdown",
      "source": [
        "# counting function using neural network"
      ],
      "metadata": {
        "id": "ZJX7sZh7vqQ9"
      }
    },
    {
      "cell_type": "code",
      "source": [
        "# load the model \n",
        "model = torch.load(os.path.dirname(CountingNN.__file__) + '/modelweights/model13_final.pt')\n",
        "\n",
        "from CountingNN.locator import Locator\n",
        "\n",
        "def fastrcnn_predict(model, arr, device, process_stride, **kwargs):\n",
        "  \"\"\"\n",
        "  Implements Faster R-CNN on a single image to detect boxes for electron events,\n",
        "  then use finding maximum to assign the entry positions\n",
        "\n",
        "  Args:\n",
        "      model: the loaded fast rcnn model\n",
        "      arr: array of a single image, shape [H,W]\n",
        "      device: torch.device('cpu') or torch.device('cuda')\n",
        "      process_stride: divide the image into pieces when applying the fast rcnn, recommend between 32 and 64.\n",
        "      meanADU: optional float for mean intensity per electron (ADU), if none, will use default 241 for 200kV.\n",
        "      p_list: optional list of five multiplier for model tune, if none, will use default numbers: [6, 6, 1.3, 1.5, 23]\n",
        "  \"\"\"\n",
        "  x = arr[None, ...]\n",
        "  # device =  torch.device('cuda') if torch.cuda.is_available() else torch.device('cpu')\n",
        "  counting = Locator(model, device, process_stride, 'max', 30, None, 'dynamic_window', meanADU = kwargs.get('meanADU'), p_list=kwargs.get('p_list'))\n",
        "  filtered, event_sizes =  counting.predict_sequence(x)\n",
        "  filtered = filtered[0]\n",
        "\n",
        "  return filtered\n"
      ],
      "metadata": {
        "id": "fdcLcMPovz7j"
      },
      "execution_count": 2,
      "outputs": []
    },
    {
      "cell_type": "markdown",
      "source": [
        "# counting function using Connected component analysis"
      ],
      "metadata": {
        "id": "Nwdk6ek107S7"
      }
    },
    {
      "cell_type": "code",
      "source": [
        "import numpy as np\n",
        "from scipy.ndimage import maximum_position\n",
        "from scipy.ndimage import label\n",
        "\n",
        "def counting_filter_max(arr, threshold=20, structure = np.ones((3,3))):\n",
        "  \"\"\"\n",
        "  Implements CCA on a single image to detect blobs,\n",
        "  then use finding maximum to assign the entry positions\n",
        "\n",
        "  Args:\n",
        "      arr: array of a single image, shape [H,W]\n",
        "      threshold: dark noise thresholding\n",
        "  \"\"\"\n",
        "  image_binary = arr > threshold \n",
        "  all_labels, num = label(image_binary, structure = np.ones((3,3)))  \n",
        "  m=np.ones(shape=all_labels.shape)\n",
        "  obj = maximum_position(arr, all_labels, range(1,num))\n",
        "  obj = np.rint(obj).astype(int)\n",
        "  x = np.zeros(shape=np.shape(arr))\n",
        "  x[obj[:,0],obj[:,1]]=1\n",
        "\n",
        "  return x"
      ],
      "metadata": {
        "id": "ekVyucTW1BTn"
      },
      "execution_count": null,
      "outputs": []
    },
    {
      "cell_type": "markdown",
      "source": [
        "# Parallel processing"
      ],
      "metadata": {
        "id": "cMUoStQO2V7A"
      }
    },
    {
      "cell_type": "markdown",
      "source": [
        "By using dask, you can create parallel tasks with multiple CPU cores or GPU cores(Dask-Cuda). Just map those counting functions for a lazy signal."
      ],
      "metadata": {
        "id": "TUoi2RSh2bDm"
      }
    }
  ]
}