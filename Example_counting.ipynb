{
 "cells": [
  {
   "cell_type": "markdown",
   "metadata": {
    "colab_type": "text",
    "id": "view-in-github"
   },
   "source": [
    "<a href=\"https://colab.research.google.com/github/wdwzyyg/ElectronCounting/blob/master/Example_counting.ipynb\" target=\"_parent\"><img src=\"https://colab.research.google.com/assets/colab-badge.svg\" alt=\"Open In Colab\"/></a>"
   ]
  },
  {
   "cell_type": "markdown",
   "metadata": {
    "id": "a10vRBPjkY-G"
   },
   "source": [
    "# Install and import packages"
   ]
  },
  {
   "cell_type": "code",
   "execution_count": 1,
   "metadata": {
    "colab": {
     "base_uri": "https://localhost:8080/"
    },
    "id": "lvkqGr48kbzs",
    "outputId": "7d2c1dc9-4aad-4b5a-f314-2f9a2a20a653"
   },
   "outputs": [],
   "source": [
    "# !pip install ElectronCounting --upgrade\n",
    "import CountingNN\n",
    "import torch\n",
    "import os"
   ]
  },
  {
   "cell_type": "markdown",
   "metadata": {
    "id": "ZJX7sZh7vqQ9"
   },
   "source": [
    "# counting function using neural network"
   ]
  },
  {
   "cell_type": "code",
   "execution_count": 6,
   "metadata": {},
   "outputs": [
    {
     "data": {
      "text/plain": [
       "'/home/m3-learning/anaconda3/envs/electron/lib/python3.10/site-packages/CountingNN/modelweights/model_200kV_final.pt'"
      ]
     },
     "execution_count": 6,
     "metadata": {},
     "output_type": "execute_result"
    }
   ],
   "source": [
    "# NOTE: I would not have a model be pip installed."
   ]
  },
  {
   "cell_type": "code",
   "execution_count": 2,
   "metadata": {
    "id": "fdcLcMPovz7j"
   },
   "outputs": [],
   "source": [
    "# load the model\n",
    "# add map_location = 'cpu' when running with on CPU\n",
    "model = torch.load(os.path.dirname(CountingNN.__file__) + '/modelweights/model_200kV_final.pt')\n",
    "\n",
    "from CountingNN.locator import Locator\n",
    "\n",
    "def fastrcnn_predict(model, arr, device, process_stride, **kwargs):\n",
    "  \"\"\"\n",
    "  Implements Faster R-CNN on a single image to detect boxes for electron events,\n",
    "  then use finding maximum to assign the entry positions\n",
    "\n",
    "  Args:\n",
    "      model: the loaded fast rcnn model\n",
    "      arr: array of a single image, shape [H,W]\n",
    "      device: torch.device('cpu') or torch.device('cuda')\n",
    "      process_stride: divide the image into pieces when applying the fast rcnn, recommend between 32 and 64.\n",
    "      meanADU: optional float for mean intensity per electron (ADU), if none, will use default 241 for 200kV.\n",
    "      p_list: optional list of five multiplier for model tune, if none, will use default numbers: [6, 6, 1.3, 1.5, 23]\n",
    "  \"\"\"\n",
    "  x = arr[None, ...]\n",
    "  # device =  torch.device('cuda') if torch.cuda.is_available() else torch.device('cpu')\n",
    "  counting = Locator(model, device, process_stride, 'max', 30, None, 'dynamic_window', meanADU = kwargs.get('meanADU'), p_list=kwargs.get('p_list'))\n",
    "  filtered, event_sizes =  counting.predict_sequence(x)\n",
    "  filtered = filtered[0]\n",
    "\n",
    "  return filtered\n"
   ]
  },
  {
   "cell_type": "markdown",
   "metadata": {
    "id": "Nwdk6ek107S7"
   },
   "source": [
    "# counting function using Connected component analysis"
   ]
  },
  {
   "cell_type": "code",
   "execution_count": 7,
   "metadata": {
    "id": "ekVyucTW1BTn"
   },
   "outputs": [],
   "source": [
    "import numpy as np\n",
    "from scipy.ndimage import maximum_position\n",
    "from scipy.ndimage import label\n",
    "\n",
    "def counting_filter_max(arr, threshold=20, structure = np.ones((3,3))):\n",
    "  \"\"\"\n",
    "  Implements CCA on a single image to detect blobs,\n",
    "  then use finding maximum to assign the entry positions\n",
    "\n",
    "  Args:\n",
    "      arr: array of a single image, shape [H,W]\n",
    "      threshold: dark noise thresholding\n",
    "  \"\"\"\n",
    "  image_binary = arr > threshold \n",
    "  all_labels, num = label(image_binary, structure = np.ones((3,3)))  \n",
    "  m=np.ones(shape=all_labels.shape)\n",
    "  obj = maximum_position(arr, all_labels, range(1,num))\n",
    "  obj = np.rint(obj).astype(int)\n",
    "  x = np.zeros(shape=np.shape(arr))\n",
    "  x[obj[:,0],obj[:,1]]=1\n",
    "\n",
    "  return x"
   ]
  },
  {
   "cell_type": "markdown",
   "metadata": {
    "id": "cMUoStQO2V7A"
   },
   "source": [
    "# Parallel processing"
   ]
  },
  {
   "cell_type": "markdown",
   "metadata": {
    "id": "TUoi2RSh2bDm"
   },
   "source": [
    "By using dask, you can create parallel tasks with multiple CPU cores or GPU cores(Dask-Cuda). Just map those counting functions for a lazy signal."
   ]
  },
  {
   "cell_type": "markdown",
   "metadata": {},
   "source": []
  }
 ],
 "metadata": {
  "colab": {
   "authorship_tag": "ABX9TyNAYb84gw4Zq/qnIteeE/1L",
   "include_colab_link": true,
   "provenance": []
  },
  "kernelspec": {
   "display_name": "Python 3",
   "name": "python3"
  },
  "language_info": {
   "codemirror_mode": {
    "name": "ipython",
    "version": 3
   },
   "file_extension": ".py",
   "mimetype": "text/x-python",
   "name": "python",
   "nbconvert_exporter": "python",
   "pygments_lexer": "ipython3",
   "version": "3.10.13"
  }
 },
 "nbformat": 4,
 "nbformat_minor": 0
}
